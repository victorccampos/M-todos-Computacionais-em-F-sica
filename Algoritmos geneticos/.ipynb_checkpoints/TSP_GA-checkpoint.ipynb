{
 "cells": [
  {
   "cell_type": "markdown",
   "metadata": {},
   "source": [
    "# Algoritmo Genético - Problema do Caixeiro Viajante  \n",
    "---  \n",
    "**Aluno: João Victor Campos Costa**  \n",
    "Definam, e deixem claro no relatório, quais foram os critérios utilizados para se gerar a próxima geração.\n",
    "Como sugestão e ponto de partida, considerem algo em torno de 20 indivíduos em cada geração. Classifiquem os \n",
    "indivíduos pela ordem de aptidão. No presente caso, `quanto menor a distância percorrida, maior será a aptidão`.  \n",
    "\n",
    "**Sugiro que o indivíduo mais apto sempre seja clonado e que alguns indivíduos da próxima geração sejam mutações dele.**\n",
    "Além disso, um critério interessante é escolher os pais dos indivíduos da próxima geração com base numa probabilidade\n",
    "diretamente proporcional à sua aptidão.  \n",
    "\n",
    "**Sugiro que considerem o número de cidades, 𝑁 ∈ [10,150]**. Mostrem a evolução da menor distância percorrida para um dado número de gerações. Definam critérios de parada (quantas gerações gerar) baseados tanto na modificação da distância percorrida em um conjunto de gerações quanto no total de gerações consideradas.   \n",
    "\n",
    "Ao final, principalmente para as instâncias com menor número de cidades, vocês devem chegar na solução exata do problema, o que algumas vezes pode ser verificado até mesmo de forma visual.\n",
    "Apresentem suas impressões e conclusões sobre o método em um relatório que deve analisar\n",
    "pelo menos três problemas (conjuntos de cidades) de tamanhos diferentes.\n",
    "\n",
    "Critério de parada -> `Número de gerações ou critério de convergência`"
   ]
  },
  {
   "cell_type": "code",
   "execution_count": 21,
   "metadata": {},
   "outputs": [],
   "source": [
    "import numpy as np\n",
    "import matplotlib.pyplot as plt\n",
    "import random"
   ]
  },
  {
   "cell_type": "markdown",
   "metadata": {},
   "source": [
    "Iremos considerar 𝑁 cidades distribuídas num plano cartesiano bidimensional. As coordenadas de \n",
    "cada cidade serão escolhidas aleatoriamente no intervalo [0,1). Assim, sugiro que sejam definido \r\n",
    "os vetores 𝑥 e 𝑦, cada um contendo 𝑁 elementos, com valores no intervalo cita.\n",
    "do"
   ]
  },
  {
   "cell_type": "code",
   "execution_count": 11,
   "metadata": {},
   "outputs": [],
   "source": [
    "N = 10\n",
    "x = np.random.rand(N)\n",
    "y = np.random.rand(N)\n"
   ]
  },
  {
   "cell_type": "code",
   "execution_count": 12,
   "metadata": {},
   "outputs": [
    {
     "name": "stdout",
     "output_type": "stream",
     "text": [
      "Coordenadas x: [0.70074134 0.46370003 0.80206904 0.70334778 0.73026357 0.84272185\n",
      " 0.83166416 0.17251735 0.34985313 0.11893101] | Coordenadas y: [0.841011   0.12907872 0.3285753  0.91398604 0.97526013 0.57065145\n",
      " 0.17400121 0.31421281 0.97908387 0.10873757]\n"
     ]
    }
   ],
   "source": [
    "print(f\"Coordenadas x: {x} | Coordenadas y: {y}\")"
   ]
  },
  {
   "cell_type": "markdown",
   "metadata": {},
   "source": [
    "O caminho a ser percorrido será, então, uma sequência de tamanho 𝑁 e também será representado por um vetor de\n",
    "tamanho 𝑁 que chamarei de 𝑐𝑎𝑚. A sequência mais simples de se definir seria 0, 1, 2, . . . , 𝑁 − 1 (já considerando índices dos vetores iniciando em 0), onde o caixeiro percorreria as cidades na ordem\n",
    "definida pela lista inicial e, após chegar à última cidade (𝑁 − 1) o caixeiro retornaria para primeira cidade (0)."
   ]
  },
  {
   "cell_type": "code",
   "execution_count": 59,
   "metadata": {},
   "outputs": [
    {
     "data": {
      "text/plain": [
       "array([0, 1, 2, 3, 4, 5, 6, 7, 8, 9], dtype=int16)"
      ]
     },
     "execution_count": 59,
     "metadata": {},
     "output_type": "execute_result"
    }
   ],
   "source": [
    "cam = np.arange(N, dtype=np.int16)\n",
    "cam"
   ]
  },
  {
   "cell_type": "code",
   "execution_count": 60,
   "metadata": {},
   "outputs": [
    {
     "data": {
      "text/plain": [
       "[0, 1, 2, 3, 4, 5, 6, 7, 8, 9]"
      ]
     },
     "execution_count": 60,
     "metadata": {},
     "output_type": "execute_result"
    }
   ],
   "source": [
    "cam.tolist()"
   ]
  },
  {
   "cell_type": "markdown",
   "metadata": {},
   "source": [
    "Usando o pacote numpy, há a opção de embaralhar esses valores para gerar um novo\n",
    "caminho aleatório através do comando np.random.shuffle() \n",
    "- retorna None e muda o valor de cam"
   ]
  },
  {
   "cell_type": "code",
   "execution_count": null,
   "metadata": {},
   "outputs": [],
   "source": [
    "num_individuos = 20\n",
    "# inicia a lista de caminhos dos individuos com o caminho base [0,1,2...,N-1]\n",
    "\n",
    "ncam = [cam.tolist()]\n",
    "\n",
    "for _ in range(num_individuos):\n",
    "    \n",
    "\n"
   ]
  },
  {
   "cell_type": "markdown",
   "metadata": {},
   "source": [
    "O vetor `cam` será o `genótipo` do nosso indivíduo. A partir do genótipo, determinamos a aptidao (distância que cada um percorre) de cada individuo"
   ]
  },
  {
   "cell_type": "markdown",
   "metadata": {},
   "source": [
    "Para facilitar os cálculos, sugiro que seja construído um array (tabela) 𝑁 × 𝑁, que chamarei de 𝑑𝑖𝑠𝑡, que contenha a distância entre cada par de cidades."
   ]
  },
  {
   "cell_type": "code",
   "execution_count": 6,
   "metadata": {},
   "outputs": [
    {
     "name": "stdout",
     "output_type": "stream",
     "text": [
      "0.9051678230184531 0.19194822248274768\n",
      "0.99301346831262 0.05515890371359278\n",
      "0.31895095630132564 0.22696438918206752\n"
     ]
    },
    {
     "data": {
      "image/png": "[encoded data removed]",
      "text/plain": [
       "<Figure size 640x480 with 1 Axes>"
      ]
     },
     "metadata": {},
     "output_type": "display_data"
    }
   ],
   "source": [
    "for xi, yi in list(zip(x,y)):\n",
    "    plt.scatter(xi, yi)\n",
    "    print(xi, yi)"
   ]
  },
  {
   "cell_type": "code",
   "execution_count": 7,
   "metadata": {},
   "outputs": [],
   "source": [
    "dist = np.empty((N, N))\n",
    "for i in range(N):\n",
    "    for j in range(N):\n",
    "        dist[i][j] = np.sqrt( (x[i] - x[j])**2 + (y[i] - y[j])**2 )"
   ]
  },
  {
   "cell_type": "code",
   "execution_count": 8,
   "metadata": {},
   "outputs": [
    {
     "data": {
      "text/plain": [
       "array([[0.        , 0.16256745, 0.58726174],\n",
       "       [0.16256745, 0.        , 0.69561296],\n",
       "       [0.58726174, 0.69561296, 0.        ]])"
      ]
     },
     "execution_count": 8,
     "metadata": {},
     "output_type": "execute_result"
    }
   ],
   "source": [
    "dist"
   ]
  },
  {
   "cell_type": "code",
   "execution_count": 9,
   "metadata": {},
   "outputs": [
    {
     "data": {
      "text/plain": [
       "0.1625674479300148"
      ]
     },
     "execution_count": 9,
     "metadata": {},
     "output_type": "execute_result"
    }
   ],
   "source": [
    "dist[0, 1] # distancia entre cidades 1 e 2 "
   ]
  },
  {
   "cell_type": "markdown",
   "metadata": {},
   "source": [
    "De posse dessa \n",
    "tabela, a distância percorrida pelo indivíduo k (apt[k]), caracterizado pelo genótipo cam[k], que é um\r\n",
    "vetor, será calculada por:\r"
   ]
  },
  {
   "cell_type": "code",
   "execution_count": 10,
   "metadata": {},
   "outputs": [
    {
     "ename": "NameError",
     "evalue": "name 'apt' is not defined",
     "output_type": "error",
     "traceback": [
      "\u001b[1;31m---------------------------------------------------------------------------\u001b[0m",
      "\u001b[1;31mNameError\u001b[0m                                 Traceback (most recent call last)",
      "Cell \u001b[1;32mIn[10], line 5\u001b[0m\n\u001b[0;32m      3\u001b[0m k \u001b[38;5;241m=\u001b[39m \u001b[38;5;241m0\u001b[39m \u001b[38;5;66;03m# primeiro e único individuos\u001b[39;00m\n\u001b[0;32m      4\u001b[0m \u001b[38;5;28;01mfor\u001b[39;00m i \u001b[38;5;129;01min\u001b[39;00m \u001b[38;5;28mrange\u001b[39m(N\u001b[38;5;241m-\u001b[39m\u001b[38;5;241m1\u001b[39m):\n\u001b[1;32m----> 5\u001b[0m     apt\u001b[38;5;241m.\u001b[39mappend( dist[ cam[k][i]  , cam[k][i\u001b[38;5;241m+\u001b[39m\u001b[38;5;241m1\u001b[39m] ] )\n",
      "\u001b[1;31mNameError\u001b[0m: name 'apt' is not defined"
     ]
    }
   ],
   "source": [
    "# Com apenas um indivíduo e distancia percorrida usual [0, 1, 2]\n",
    "aptidao = np.empty(N)\n",
    "k = 0 # primeiro e único individuos\n",
    "for i in range(N-1):\n",
    "    aptidao.append( dist[ cam[k][i]  , cam[k][i+1] ] )"
   ]
  },
  {
   "cell_type": "code",
   "execution_count": 43,
   "metadata": {},
   "outputs": [],
   "source": [
    "rng = np.random.default_rng()"
   ]
  },
  {
   "cell_type": "code",
   "execution_count": 54,
   "metadata": {},
   "outputs": [],
   "source": [
    "teste = rng.integers(low=0, high=N, size=N)"
   ]
  },
  {
   "cell_type": "code",
   "execution_count": 55,
   "metadata": {},
   "outputs": [
    {
     "data": {
      "text/plain": [
       "array([0, 7, 8, 9, 0, 4, 1, 5, 1, 1], dtype=int64)"
      ]
     },
     "execution_count": 55,
     "metadata": {},
     "output_type": "execute_result"
    }
   ],
   "source": [
    "teste"
   ]
  },
  {
   "cell_type": "code",
   "execution_count": null,
   "metadata": {},
   "outputs": [],
   "source": [
    "aptidao"
   ]
  },
  {
   "cell_type": "code",
   "execution_count": null,
   "metadata": {},
   "outputs": [],
   "source": []
  },
  {
   "cell_type": "code",
   "execution_count": null,
   "metadata": {},
   "outputs": [],
   "source": []
  },
  {
   "cell_type": "code",
   "execution_count": null,
   "metadata": {},
   "outputs": [],
   "source": [
    "numero_de_individuos = 2\n",
    "\n",
    "for k in range(numero_de_individuos):\n",
    "    for i in range(N-1):\n",
    "        aptidao[k] = aptidao[k] + dist[ cam[k][i]  , cam[k][i+1] ]\n",
    "    aptdidaot[k]  = dist[cam[k, 0], cam[k][N-1]]"
   ]
  }
 ],
 "metadata": {
  "kernelspec": {
   "display_name": "Python 3 (ipykernel)",
   "language": "python",
   "name": "python3"
  },
  "language_info": {
   "codemirror_mode": {
    "name": "ipython",
    "version": 3
   },
   "file_extension": ".py",
   "mimetype": "text/x-python",
   "name": "python",
   "nbconvert_exporter": "python",
   "pygments_lexer": "ipython3",
   "version": "3.12.4"
  }
 },
 "nbformat": 4,
 "nbformat_minor": 4
}
