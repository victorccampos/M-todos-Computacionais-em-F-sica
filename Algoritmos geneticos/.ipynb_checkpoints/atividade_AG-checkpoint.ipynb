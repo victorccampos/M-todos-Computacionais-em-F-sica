{
 "cells": [
  {
   "cell_type": "code",
   "execution_count": 1,
   "metadata": {},
   "outputs": [],
   "source": [
    "import numpy as np\n",
    "import matplotlib.pyplot as plt\n",
    "import random\n",
    "from deap import tools\n",
    "import copy\n",
    "\n",
    "# Imprimir melhor as tabelas\n",
    "from tabulate import tabulate\n",
    "#print(tabulate(distance_table,  tablefmt=\"grid\"))"
   ]
  },
  {
   "cell_type": "markdown",
   "metadata": {},
   "source": [
    "### Métodos do Caixeiro Viajante"
   ]
  },
  {
   "cell_type": "code",
   "execution_count": 2,
   "metadata": {},
   "outputs": [],
   "source": [
    "def criar_cidades(N: int):\n",
    "    x = np.random.rand(N)\n",
    "    y = np.random.rand(N)\n",
    "    return x, y \n",
    "\n",
    "def plot_cidades(x: np.ndarray, y: np.ndarray, print_coord: bool = False) -> None:\n",
    "    for xi, yi in list(zip(x,y)):\n",
    "        plt.scatter(xi, yi)\n",
    "        if print_coord:\n",
    "            print(xi, yi)\n",
    "\n",
    "def make_caminhos(N: int, num_individuos: int) -> list[list]:\n",
    "    cam = np.arange(N, dtype=np.int16)\n",
    "    ncam = [cam.tolist()]\n",
    "    # de 1 pois ja tem o caminho base incluso\n",
    "    for k in range(1, num_individuos):\n",
    "        vec_temp = cam.copy()\n",
    "        random.shuffle(vec_temp)\n",
    "        ncam.append(vec_temp)\n",
    "    return ncam\n",
    "\n",
    "def get_distance_table(N: int, x: np.ndarray, y: np.ndarray):\n",
    "    # Tabela NxN\n",
    "    distance_table = np.empty(shape=(N,N))\n",
    "    for i in range(N):\n",
    "        for j in range(N):\n",
    "            distance_table[i][j] = np.sqrt( (x[i] - x[j])**2 + (y[i] - y[j])**2 )    \n",
    "    return distance_table\n",
    "\n",
    "def get_aptidao(N, numero_individuos, numero_caminhos, distance_table):\n",
    "    aptidao = np.empty(numero_individuos)\n",
    "    \n",
    "    # para todos os genotipos/individuos\n",
    "    for k in range(numero_individuos):\n",
    "        aptidao[k] = 0\n",
    "        # Percorrer as cidades (N-1 operações)\n",
    "        for i in range(N-1):\n",
    "            aptidao[k] += distance_table[ numero_caminhos[k][i], numero_caminhos[k][i+1] ]\n",
    "        # retornar a cidade inicial\n",
    "                                         # ultima cidade         # primeira\n",
    "        aptidao[k] += distance_table[ numero_caminhos[k][N-1] , numero_caminhos[k][0] ]\n",
    "\n",
    "    return aptidao"
   ]
  },
  {
   "cell_type": "markdown",
   "metadata": {},
   "source": [
    "### Métodos do Algoritmo Genético : Mutação e Crossover  \n",
    "Mecanismos de recombinação e mutação devem ser definidos com base na aptidão dos indivíduos."
   ]
  },
  {
   "cell_type": "code",
   "execution_count": 3,
   "metadata": {},
   "outputs": [],
   "source": [
    "def get_pais(aptidao: list, numero_caminhos: np.ndarray):\n",
    "    # Cria uma shallow copy do array aptidao, com estas em ordem crescente\n",
    "    aptidao_sorted = np.copy(aptidao)\n",
    "    aptidao_sorted.sort()\n",
    "    \n",
    "    # Seleciona o valor dos caminhos do mais aptos\n",
    "    min2 = aptidao_sorted[1]\n",
    "    min1 = aptidao_sorted[0]\n",
    "    \n",
    "    # Cria um array para armazenar o indice dos mais aptos do array aptidao\n",
    "    # que indexarao a escolha de caminho no array de caminhos\n",
    "    pais_escolhidos = []\n",
    "    \n",
    "    for index, valor in enumerate(aptidao):\n",
    "        #print(\"index, valor = \", (index,valor))\n",
    "        if valor == min1 or valor == min2:\n",
    "            pais_escolhidos.append(numero_caminhos[index])\n",
    "        else:\n",
    "            continue\n",
    "    return pais_escolhidos"
   ]
  },
  {
   "cell_type": "code",
   "execution_count": 94,
   "metadata": {},
   "outputs": [],
   "source": [
    "def reciprocal_exchange(filho: list) -> list | None:\n",
    "    tamanho_filho = len(filho)\n",
    "    i , j = np.random.choice(a=[i for i in range(tamanho_filho)], size=2 , replace=False)\n",
    "    \n",
    "    # print(f\"Indices que irao trocar: {i=} {j=}\")\n",
    "    vec_copy = np.copy(filho)\n",
    "\n",
    "    # print(f\"Antes da inversao -> {filho} \")\n",
    "    filho[i] = vec_copy[j]\n",
    "    filho[j] = vec_copy[i]\n",
    "\n",
    "    # print(f\"Depois da inversao -> {filho}\")\n",
    "    return filho\n"
   ]
  },
  {
   "cell_type": "markdown",
   "metadata": {},
   "source": [
    "**TO-DO**  \n",
    "\n",
    "Cria duas classes:  \n",
    "- **CrossOver**  \n",
    "- **Mutacao**    \n",
    "\n",
    "Os métodos da classe **CrossOver** serão:  \n",
    "- OX $\\rightarrow$ `tools.cxOrdered(pai1, pai2)`  \n",
    "- PMX $\\rightarrow$ `tools.cxPartialyMatched(pai1, pai2)`  \n",
    "- Cycle $\\rightarrow$ a implementar   \n",
    "\n",
    "Os métodos da classe **Mutacao** serão:  \n",
    "- inversão $\\rightarrow$ utilizar o `tools.mutInversion(filho)`  \n",
    "- reciprocal_exchange $\\rightarrow$ já implementei\n",
    "\n",
    "*Nota:* Quando for evoluir, verificar se esses métodos estão mantendo fixos o numero de indivíduos em cada geração, ou seja, o tamanho do array ncam tem que permanecer o mesmo."
   ]
  },
  {
   "cell_type": "code",
   "execution_count": 61,
   "metadata": {},
   "outputs": [],
   "source": [
    "class Crossover:\n",
    "    def __init__(self, N):\n",
    "        self.N = N\n",
    "\n",
    "    @staticmethod\n",
    "    def OrderOperator(pais: list[list], num_individuos) -> list | np.ndarray:\n",
    "        \"\"\"\n",
    "        Aplica o método Order Operator sobre dois pais e retorna uma população de\n",
    "        N individuos, [pai1, pai2, N-2].\n",
    "        \"\"\"\n",
    "        numero_de_filhos = (num_individuos - 2) // 2\n",
    "        pai1, pai2 = pais[0], pais[1]\n",
    "        #print(\"pais: \", pai1, pai2 )\n",
    "        \n",
    "        # Criar cópias para nao sobrescrever o gene dos pais\n",
    "        pai1_copy  =np.copy(pai1)\n",
    "        pai2_copy = np.copy(pai2)\n",
    "        filhos = [pai1, pai2]\n",
    "\n",
    "        # Crossover\n",
    "        for _ in range(numero_de_filhos):\n",
    "            #print(f\"{pai1_copy=}\")\n",
    "            #print(f\"{pai2_copy=}\")\n",
    "            print()\n",
    "            f1, f2 = tools.cxOrdered(pai1_copy, pai2_copy)\n",
    "            filhos.append(f1)\n",
    "            filhos.append(f2)\n",
    "            #print(\"populacao\", filhos)\n",
    "        return filhos\n",
    "\n",
    "    def PartiallyMatched(pais: list[list], num_individuos) -> list | np.ndarray:\n",
    "        \"\"\"\n",
    "        Aplica o método PMX sobre dois pais e retorna uma população de\n",
    "        N individuos, [pai1, pai2, N-2].\n",
    "        \"\"\"\n",
    "        numero_de_filhos = (num_individuos - 2) // 2\n",
    "        pai1, pai2 = pais[0], pais[1]\n",
    "       # print(\"pais: \", pai1, pai2 )\n",
    "        \n",
    "        # Criar cópias para nao sobrescrever o gene dos pais\n",
    "        pai1_copy  =copy.deepcopy(pai1)\n",
    "        pai2_copy = copy.deepcopy(pai2)\n",
    "        filhos = [pai1, pai2]\n",
    "\n",
    "        # Crossover\n",
    "        for _ in range(numero_de_filhos):\n",
    "            #print(f\"{pai1_copy=}\")\n",
    "            #print(f\"{pai2_copy=}\")\n",
    "            #print()\n",
    "            f1, f2 = tools.cxPartially(pai1_copy, pai2_copy)\n",
    "            filhos.append(f1)\n",
    "            filhos.append(f2)\n",
    "            #print(\"populacao\", filhos)\n",
    "        return filhos\n",
    "    "
   ]
  },
  {
   "cell_type": "code",
   "execution_count": 6,
   "metadata": {},
   "outputs": [],
   "source": [
    "# ignorar cruzamento\n",
    "def cruzamento(pais):\n",
    "    ## pais= ncam\n",
    "    num_filhos = len(pais) * 2\n",
    "    filhos = []\n",
    "    for i in range(0, len(pais), 2):\n",
    "        pai1 = pais[i]\n",
    "        pai2 = pais[i + 1]\n",
    "\n",
    "        # algoritmo dos metodos três metodos de crossover, # TO-DO escolher um\n",
    "        filho1 , filho2 = tools.cxOrdered(pai1, pai2) # OX\n",
    "        # filho1 , filho2 = tools.cxPartialyMatched(pai1, pai2) # PMX\n",
    "        # filho1 , filho2 = tools.cxCycle(pai1, pai2) # Cycle\n",
    "\n",
    "        \n",
    "        filhos.append(filho1)\n",
    "        filhos.append(filho2)\n",
    "    return filhos\n",
    "\n",
    "def mutacao(filhos, taxa_mutacao=0.01, inversao: bool = True):\n",
    "    # filho: list , filhos: list[list]\n",
    "    \n",
    "    for filho in filhos:\n",
    "        if np.random.rand() < taxa_mutacao:\n",
    "            \n",
    "            if inversao:\n",
    "            # algoritmo de mutacao (Reciprocal Exchange e Inversion)\n",
    "                filho, = tools.mutInversion(filho)\n",
    "            else:\n",
    "                filho = reciprocal_exchange(filho)\n",
    "    return filhos\n",
    "\n",
    "def main_evolucao(N, num_individuos, num_geracoes, x, y):\n",
    "    distance_table = get_distance_table(N, x, y)\n",
    "    numero_caminhos = make_caminhos(N, num_individuos)\n",
    "    \n",
    "    dist_min = []\n",
    "    \n",
    "    for geracao in range(num_geracoes):\n",
    "        aptidao = get_aptidao(N, num_individuos, numero_caminhos, distance_table)\n",
    "        # \n",
    "        dist_min.append(np.min(aptidao))\n",
    "        # Determinar os pais \n",
    "        pais = get_pais(aptidao=aptidao, numero_caminhos=numero_caminhos)\n",
    "        \n",
    "        # Métodos de crossover e mutacao sobre os pais\n",
    "        ###### Não tá mantendo o nº de indíviduos\n",
    "        ### Gerando IndexError no loop de Geração\n",
    "        filhos = cruzamento(pais, N)\n",
    "        filhos = mutacao(filhos)\n",
    "        \n",
    "        numero_caminhos = filhos\n",
    "    \n",
    "    return dist_min"
   ]
  },
  {
   "cell_type": "markdown",
   "metadata": {},
   "source": [
    "### Simulação 1  \n",
    "\n",
    "- Número de cidades = 10\n",
    "- Numéro de indivíduos (caminhos) = 20\n",
    "- Numero de gerações = 2"
   ]
  },
  {
   "cell_type": "code",
   "execution_count": 150,
   "metadata": {},
   "outputs": [
    {
     "data": {
      "image/png": "[encoded data removed]",
      "text/plain": [
       "<Figure size 640x480 with 1 Axes>"
      ]
     },
     "metadata": {},
     "output_type": "display_data"
    }
   ],
   "source": [
    "NUM_CIDADES = 20\n",
    "NUM_INDIVIDUOS = 10\n",
    "\n",
    "X, Y = criar_cidades(NUM_CIDADES)\n",
    "plot_cidades(X, Y)\n",
    "dist = get_distance_table(NUM_CIDADES, X, Y)"
   ]
  },
  {
   "cell_type": "code",
   "execution_count": 151,
   "metadata": {},
   "outputs": [],
   "source": [
    "# LOOP DE EVOLUCAO\n",
    "ncam = make_caminhos(NUM_CIDADES, NUM_INDIVIDUOS)\n",
    "apt = get_aptidao(N=NUM_CIDADES, numero_individuos=NUM_INDIVIDUOS, numero_caminhos=ncam, distance_table=dist)"
   ]
  },
  {
   "cell_type": "code",
   "execution_count": 152,
   "metadata": {},
   "outputs": [
    {
     "data": {
      "text/plain": [
       "array([ 9.49439257,  9.62483006, 11.14392716, 10.67435255, 10.1817901 ,\n",
       "       10.48699205,  9.03568749,  8.87533872, 10.8839942 , 10.94067257])"
      ]
     },
     "execution_count": 152,
     "metadata": {},
     "output_type": "execute_result"
    }
   ],
   "source": [
    "apt"
   ]
  },
  {
   "cell_type": "code",
   "execution_count": 153,
   "metadata": {},
   "outputs": [
    {
     "name": "stdout",
     "output_type": "stream",
     "text": [
      "+----+----+----+----+----+----+----+----+----+----+----+----+----+----+----+----+----+----+----+----+\n",
      "|  0 |  1 |  2 |  3 |  4 |  5 |  6 |  7 |  8 |  9 | 10 | 11 | 12 | 13 | 14 | 15 | 16 | 17 | 18 | 19 |\n",
      "+----+----+----+----+----+----+----+----+----+----+----+----+----+----+----+----+----+----+----+----+\n",
      "|  9 |  0 | 19 | 13 |  4 |  6 |  2 | 11 |  5 |  7 |  1 | 14 | 16 |  8 | 10 | 15 | 12 | 18 |  3 | 17 |\n",
      "+----+----+----+----+----+----+----+----+----+----+----+----+----+----+----+----+----+----+----+----+\n",
      "| 18 |  1 | 10 | 16 |  5 |  6 |  3 | 11 |  0 | 19 |  4 | 12 |  8 | 15 |  9 |  7 |  2 | 17 | 14 | 13 |\n",
      "+----+----+----+----+----+----+----+----+----+----+----+----+----+----+----+----+----+----+----+----+\n",
      "|  4 |  5 | 18 | 15 |  3 | 14 |  0 | 16 | 19 |  8 | 17 |  1 |  9 | 12 |  7 |  2 | 13 | 11 |  6 | 10 |\n",
      "+----+----+----+----+----+----+----+----+----+----+----+----+----+----+----+----+----+----+----+----+\n",
      "|  0 |  5 |  2 |  3 | 14 |  4 |  6 |  9 | 12 |  1 | 11 |  8 |  7 | 15 | 10 | 17 | 13 | 16 | 19 | 18 |\n",
      "+----+----+----+----+----+----+----+----+----+----+----+----+----+----+----+----+----+----+----+----+\n",
      "| 10 |  9 | 16 | 15 |  3 | 12 |  1 | 13 |  4 | 14 |  6 | 17 |  8 |  5 |  7 |  2 | 18 |  0 | 11 | 19 |\n",
      "+----+----+----+----+----+----+----+----+----+----+----+----+----+----+----+----+----+----+----+----+\n",
      "|  4 | 11 | 17 | 12 | 19 |  0 |  1 | 16 |  3 |  6 |  8 |  5 | 13 |  2 | 10 |  9 | 18 | 15 | 14 |  7 |\n",
      "+----+----+----+----+----+----+----+----+----+----+----+----+----+----+----+----+----+----+----+----+\n",
      "|  5 |  8 |  6 |  3 | 11 |  9 |  2 | 12 |  7 | 10 | 18 | 19 |  1 | 13 |  0 | 14 | 15 |  4 | 17 | 16 |\n",
      "+----+----+----+----+----+----+----+----+----+----+----+----+----+----+----+----+----+----+----+----+\n",
      "| 13 |  8 |  3 | 18 | 12 | 14 | 17 |  6 | 15 |  0 | 11 | 10 | 19 | 16 |  2 |  1 |  4 |  9 |  7 |  5 |\n",
      "+----+----+----+----+----+----+----+----+----+----+----+----+----+----+----+----+----+----+----+----+\n",
      "|  3 |  5 |  6 |  8 | 13 | 15 |  1 | 14 | 18 | 19 | 17 |  2 |  7 | 10 | 11 |  9 | 12 |  0 |  4 | 16 |\n",
      "+----+----+----+----+----+----+----+----+----+----+----+----+----+----+----+----+----+----+----+----+\n"
     ]
    }
   ],
   "source": [
    "print(tabulate(ncam, tablefmt='grid'))"
   ]
  },
  {
   "cell_type": "code",
   "execution_count": 154,
   "metadata": {},
   "outputs": [
    {
     "name": "stdout",
     "output_type": "stream",
     "text": [
      "[array([ 4, 11, 17, 12, 19,  0,  1, 16,  3,  6,  8,  5, 13,  2, 10,  9, 18,\n",
      "       15, 14,  7], dtype=int16), array([ 5,  8,  6,  3, 11,  9,  2, 12,  7, 10, 18, 19,  1, 13,  0, 14, 15,\n",
      "        4, 17, 16], dtype=int16)]\n"
     ]
    }
   ],
   "source": [
    "# escolher os pais dessa geracao com base na aptidão\n",
    "pais = get_pais(aptidao=apt, numero_caminhos=ncam)\n",
    "print(pais)"
   ]
  },
  {
   "cell_type": "markdown",
   "metadata": {},
   "source": [
    "A escolha com base na aptidão está **ok**\n"
   ]
  },
  {
   "cell_type": "markdown",
   "metadata": {},
   "source": [
    "**Mutação**"
   ]
  },
  {
   "cell_type": "markdown",
   "metadata": {},
   "source": [
    "*exemplo de reciprocal exchange*"
   ]
  },
  {
   "cell_type": "code",
   "execution_count": 155,
   "metadata": {},
   "outputs": [
    {
     "name": "stdout",
     "output_type": "stream",
     "text": [
      "[ 4 11 17 12 19  0  1 16  3  6  8  5 13  2 10  9 18 15 14  7]\n",
      "[ 4 11 17  2 19  0  1 16  3  6  8  5 13 12 10  9 18 15 14  7]\n"
     ]
    }
   ],
   "source": [
    "print(pais[0])\n",
    "f1 = reciprocal_exchange(pais[0])\n",
    "print(f1)"
   ]
  },
  {
   "cell_type": "markdown",
   "metadata": {},
   "source": [
    "trocou  2 -> 12"
   ]
  },
  {
   "cell_type": "code",
   "execution_count": 156,
   "metadata": {},
   "outputs": [
    {
     "name": "stdout",
     "output_type": "stream",
     "text": [
      "[ 5  8  6  3 11  9  2 12  7 10 18 19  1 13  0 14 15  4 17 16]\n",
      "[ 5  8  6  3 11  9 16 12  7 10 18 19  1 13  0 14 15  4 17  2]\n"
     ]
    }
   ],
   "source": [
    "print(pais[1])\n",
    "f2 = reciprocal_exchange(pais[1])\n",
    "print(f2)"
   ]
  },
  {
   "cell_type": "markdown",
   "metadata": {},
   "source": [
    "trocou 2 -> 16"
   ]
  },
  {
   "cell_type": "markdown",
   "metadata": {},
   "source": [
    "*exemplo de inversão* \n"
   ]
  },
  {
   "cell_type": "code",
   "execution_count": 157,
   "metadata": {},
   "outputs": [
    {
     "name": "stdout",
     "output_type": "stream",
     "text": [
      "Antes da inversão = [ 4 11 17  2 19  0  1 16  3  6  8  5 13 12 10  9 18 15 14  7]\n",
      "Depois da inversão = (array([ 4, 11, 17,  2, 19,  0,  1, 16,  3, 18,  9, 10, 12, 13,  5,  8,  6,\n",
      "       15, 14,  7], dtype=int16),)\n"
     ]
    }
   ],
   "source": [
    "print(\"Antes da inversão =\", f1)\n",
    "f1 = tools.mutInversion(f1)\n",
    "\n",
    "print(\"Depois da inversão =\", f1)"
   ]
  },
  {
   "cell_type": "markdown",
   "metadata": {},
   "source": [
    "inverteu a sequência [6, 8, 5, 13, 12, 10, 9, 18]"
   ]
  },
  {
   "cell_type": "markdown",
   "metadata": {},
   "source": []
  }
 ],
 "metadata": {
  "kernelspec": {
   "display_name": "Python 3 (ipykernel)",
   "language": "python",
   "name": "python3"
  },
  "language_info": {
   "codemirror_mode": {
    "name": "ipython",
    "version": 3
   },
   "file_extension": ".py",
   "mimetype": "text/x-python",
   "name": "python",
   "nbconvert_exporter": "python",
   "pygments_lexer": "ipython3",
   "version": "3.12.4"
  }
 },
 "nbformat": 4,
 "nbformat_minor": 4
}
