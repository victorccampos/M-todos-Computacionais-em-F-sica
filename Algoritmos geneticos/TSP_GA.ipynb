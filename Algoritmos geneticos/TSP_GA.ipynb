{
 "cells": [
  {
   "cell_type": "markdown",
   "metadata": {},
   "source": [
    "# Algoritmo Genético - Problema do Caixeiro Viajante  \n",
    "---  \n",
    "**Aluno: João Victor Campos Costa**  \n",
    "Definam, e deixem claro no relatório, quais foram os critérios utilizados para se gerar a próxima geração.\n",
    "Como sugestão e ponto de partida, considerem algo em torno de 20 indivíduos em cada geração. Classifiquem os \n",
    "indivíduos pela ordem de aptidão. No presente caso, `quanto menor a distância percorrida, maior será a aptidão`.  \n",
    "\n",
    "**Sugiro que o indivíduo mais apto sempre seja clonado e que alguns indivíduos da próxima geração sejam mutações dele.**\n",
    "Além disso, um critério interessante é escolher os pais dos indivíduos da próxima geração com base numa probabilidade\n",
    "diretamente proporcional à sua aptidão.  \n",
    "\n",
    "**Sugiro que considerem o número de cidades, 𝑁 ∈ [10,150]**. Mostrem a evolução da menor distância percorrida para um dado número de gerações. Definam critérios de parada (quantas gerações gerar) baseados tanto na modificação da distância percorrida em um conjunto de gerações quanto no total de gerações consideradas.   \n",
    "\n",
    "Ao final, principalmente para as instâncias com menor número de cidades, vocês devem chegar na solução exata do problema, o que algumas vezes pode ser verificado até mesmo de forma visual.\n",
    "Apresentem suas impressões e conclusões sobre o método em um relatório que deve analisar\n",
    "pelo menos três problemas (conjuntos de cidades) de tamanhos diferentes.\n",
    "\n",
    "Critério de parada -> `Número de gerações ou critério de convergência`"
   ]
  },
  {
   "cell_type": "code",
   "execution_count": 1,
   "metadata": {},
   "outputs": [],
   "source": [
    "import numpy as np\n",
    "import matplotlib.pyplot as plt\n",
    "import random"
   ]
  },
  {
   "cell_type": "markdown",
   "metadata": {},
   "source": [
    "Iremos considerar 𝑁 cidades distribuídas num plano cartesiano bidimensional. As coordenadas de \n",
    "cada cidade serão escolhidas aleatoriamente no intervalo [0,1). Assim, sugiro que sejam definido \n",
    "os vetores 𝑥 e 𝑦, cada um contendo 𝑁 elementos, com valores no intervalo citado"
   ]
  },
  {
   "cell_type": "code",
   "execution_count": 2,
   "metadata": {},
   "outputs": [],
   "source": [
    "N = 3\n",
    "x = np.random.rand(N)\n",
    "y = np.random.rand(N)\n"
   ]
  },
  {
   "cell_type": "code",
   "execution_count": 3,
   "metadata": {},
   "outputs": [
    {
     "name": "stdout",
     "output_type": "stream",
     "text": [
      "Coordenadas x: [0.98686146 0.41242592 0.1181491 ] | Coordenadas y: [0.49223071 0.71817507 0.10463996]\n"
     ]
    }
   ],
   "source": [
    "print(f\"Coordenadas x: {x} | Coordenadas y: {y}\")"
   ]
  },
  {
   "cell_type": "code",
   "execution_count": 4,
   "metadata": {},
   "outputs": [],
   "source": [
    "def plot_cidades(x,y, print_coord: bool = False):\n",
    "    for xi, yi in list(zip(x,y)):\n",
    "        plt.scatter(xi, yi)\n",
    "        if print_coord:\n",
    "            print(xi, yi);"
   ]
  },
  {
   "cell_type": "code",
   "execution_count": 5,
   "metadata": {},
   "outputs": [
    {
     "data": {
      "image/png": "[encoded data removed]",
      "text/plain": [
       "<Figure size 640x480 with 1 Axes>"
      ]
     },
     "metadata": {},
     "output_type": "display_data"
    }
   ],
   "source": [
    "plot_cidades(x,y)"
   ]
  },
  {
   "cell_type": "markdown",
   "metadata": {},
   "source": [
    "O caminho a ser percorrido será, então, uma sequência de tamanho 𝑁 e também será representado por um vetor de\n",
    "tamanho 𝑁 que chamarei de 𝑐𝑎𝑚. A sequência mais simples de se definir seria 0, 1, 2, . . . , 𝑁 − 1 (já considerando índices dos vetores iniciando em 0), onde o caixeiro percorreria as cidades na ordem\n",
    "definida pela lista inicial e, após chegar à última cidade (𝑁 − 1) o caixeiro retornaria para primeira cidade (0)."
   ]
  },
  {
   "cell_type": "code",
   "execution_count": 6,
   "metadata": {},
   "outputs": [
    {
     "name": "stdout",
     "output_type": "stream",
     "text": [
      "1\n",
      "2\n"
     ]
    }
   ],
   "source": [
    "for k in range(1, 3):\n",
    "    print(k)"
   ]
  },
  {
   "cell_type": "code",
   "execution_count": 7,
   "metadata": {},
   "outputs": [
    {
     "data": {
      "text/plain": [
       "[0, 1, 2]"
      ]
     },
     "execution_count": 7,
     "metadata": {},
     "output_type": "execute_result"
    }
   ],
   "source": [
    "cam = np.arange(N, dtype=np.int16)\n",
    "cam.tolist()"
   ]
  },
  {
   "cell_type": "markdown",
   "metadata": {},
   "source": [
    "Usando o pacote numpy, há a opção de embaralhar esses valores para gerar um novo\n",
    "caminho aleatório através do comando np.random.shuffle()"
   ]
  },
  {
   "cell_type": "code",
   "execution_count": 8,
   "metadata": {},
   "outputs": [
    {
     "name": "stdout",
     "output_type": "stream",
     "text": [
      "População [genótipo] -> Caminhos = [[0, 1, 2], array([1, 0, 2], dtype=int16), array([1, 0, 2], dtype=int16)]\n"
     ]
    }
   ],
   "source": [
    "num_individuos = 3\n",
    "# inicia a lista de caminhos dos individuos com o caminho base [0,1,2...,N-1]\n",
    "\n",
    "# desnecessário\n",
    "ncam = [cam.tolist()]\n",
    "\n",
    "for n in range(1, num_individuos):\n",
    "    vec_temp = cam.copy()\n",
    "    random.shuffle(vec_temp)\n",
    "    ncam.append(vec_temp)\n",
    "\n",
    "print(f\"População [genótipo] -> Caminhos = {ncam}\")"
   ]
  },
  {
   "cell_type": "markdown",
   "metadata": {},
   "source": [
    "O vetor `cam` será o `genótipo` do nosso indivíduo. A partir do genótipo, determinamos a aptidao (distância que cada um percorre) de cada individuo"
   ]
  },
  {
   "cell_type": "markdown",
   "metadata": {},
   "source": [
    "Para facilitar os cálculos, sugiro que seja construído um array (tabela) 𝑁 × 𝑁, que chamarei de 𝑑𝑖𝑠𝑡, que contenha a distância entre cada par de cidades."
   ]
  },
  {
   "cell_type": "code",
   "execution_count": 9,
   "metadata": {},
   "outputs": [
    {
     "name": "stdout",
     "output_type": "stream",
     "text": [
      "[[0.         0.61727389 0.95125588]\n",
      " [0.61727389 0.         0.6804588 ]\n",
      " [0.95125588 0.6804588  0.        ]]\n"
     ]
    }
   ],
   "source": [
    "dist = np.empty((N, N))\n",
    "for i in range(N):\n",
    "    for j in range(N):\n",
    "        dist[i][j] = np.sqrt( (x[i] - x[j])**2 + (y[i] - y[j])**2 )\n",
    "\n",
    "print(dist)\n"
   ]
  },
  {
   "cell_type": "markdown",
   "metadata": {},
   "source": [
    "De posse dessa  tabela, a distância percorrida pelo indivíduo k (apt[k]), caracterizado pelo genótipo cam[k], que é um vetor, será calculada por:\n",
    "\n"
   ]
  },
  {
   "cell_type": "markdown",
   "metadata": {},
   "source": [
    "No loop de percorrer cidade, faz-se na numeração do Python N-1 operações. Por exemplo o caminho o [0, 1, 2] para N = 3 cidades:\n",
    "\n",
    "i = 0 -> dist(0, 1)  \n",
    "i = 1 -> dist(1, 2)"
   ]
  },
  {
   "cell_type": "code",
   "execution_count": null,
   "metadata": {},
   "outputs": [],
   "source": []
  },
  {
   "cell_type": "code",
   "execution_count": 10,
   "metadata": {},
   "outputs": [],
   "source": [
    "# Com apenas um indivíduo e distancia percorrida usual [0, 1, 2]\n",
    "aptidao = np.empty(num_individuos)\n",
    "# Preencher aptidao, i.e, calcular a distância percorrida por cada um, loop em N-1:\n",
    "\n",
    "# para todos os genotipos\n",
    "for k in range(num_individuos):\n",
    "    \n",
    "    # Percorrer as cidades (N-1 operações)\n",
    "    for i in range(N-1):\n",
    "        aptidao[k] = aptidao[k] + dist[ncam[k][i], ncam[k][i+1]]\n",
    "    \n",
    "    # retornar a cidade inicial\n",
    "    aptidao[k] += dist[ncam[k][0], ncam[k][N-1]] \n"
   ]
  },
  {
   "cell_type": "code",
   "execution_count": 11,
   "metadata": {},
   "outputs": [
    {
     "data": {
      "text/plain": [
       "array([2.24898857, 2.24898857, 2.24898857])"
      ]
     },
     "execution_count": 11,
     "metadata": {},
     "output_type": "execute_result"
    }
   ],
   "source": [
    "aptidao"
   ]
  },
  {
   "cell_type": "code",
   "execution_count": null,
   "metadata": {},
   "outputs": [],
   "source": []
  }
 ],
 "metadata": {
  "kernelspec": {
   "display_name": "Python 3 (ipykernel)",
   "language": "python",
   "name": "python3"
  },
  "language_info": {
   "codemirror_mode": {
    "name": "ipython",
    "version": 3
   },
   "file_extension": ".py",
   "mimetype": "text/x-python",
   "name": "python",
   "nbconvert_exporter": "python",
   "pygments_lexer": "ipython3",
   "version": "3.12.4"
  }
 },
 "nbformat": 4,
 "nbformat_minor": 4
}
