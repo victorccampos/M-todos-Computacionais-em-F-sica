{
 "cells": [
  {
   "cell_type": "code",
   "execution_count": 85,
   "id": "1129643b-b572-440f-b488-ccc7721e570a",
   "metadata": {},
   "outputs": [],
   "source": [
    "import numpy as np\n",
    "import matplotlib.pyplot as plt\n",
    "from numba import jit, typed\n",
    "from typing import Callable"
   ]
  },
  {
   "cell_type": "code",
   "execution_count": 65,
   "id": "c45d0429-09c1-492e-8b16-1ae73a9f6cb2",
   "metadata": {},
   "outputs": [],
   "source": [
    "class SpinLattice:\n",
    "    def __init__(self, L, T, spins):\n",
    "        self.L = L # lado da rede\n",
    "        self.N = self.L * self.L # num de spins\n",
    "        self.T = T # temperatura \n",
    "        self.spins = spins # matriz de spins\n",
    "        self.beta = 1 / self.T\n",
    "        self.exp_dict = create_exp_dict(self.beta)\n",
    "    \n",
    "    def get_viz(self) -> np.ndarray:\n",
    "        #self.N = self.L * self.L\n",
    "        dimension = (self.N, 4)\n",
    "        self.viz_list = np.zeros(dimension, dtype=np.int16)\n",
    "        \n",
    "        for i in range(self.N):\n",
    "            \n",
    "            self.viz_list[i,0] = i+1\n",
    "            if (i+1) % self.L == 0 : \n",
    "                self.viz_list[i,0] = i+1-self.L\n",
    "            \n",
    "            self.viz_list[i,1] = i+self.L\n",
    "            if i > (self.N-self.L-1): \n",
    "                self.viz_list[i,1] = i + self.L -self.N \n",
    "    \n",
    "            self.viz_list[i,2] = i-1\n",
    "            if i % self.L == 0: \n",
    "                self.viz_list[i,2] = i-1 + self.L \n",
    "    \n",
    "            self.viz_list[i,3] = i-self.L\n",
    "            if i<self.L: \n",
    "                self.viz_list[i,3] = i-self.L+self.N\n",
    "        return self.viz_list\n",
    "        \n",
    "        def create_exp_dict(self):\n",
    "            ex = typed.Dict()\n",
    "            ex[-8] = np.exp(8.0 * self.beta)\n",
    "            ex[-4] = np.exp(4.0 * self.beta)\n",
    "            ex[0] = 1.0\n",
    "            ex[4] = np.exp(-4.0 * self.beta)\n",
    "            ex[8] = np.exp(-8.0 * self.beta)\n",
    "        return ex\n"
   ]
  },
  {
   "cell_type": "code",
   "execution_count": 48,
   "id": "12603051-3a51-4d41-9d71-a7427ef4b199",
   "metadata": {},
   "outputs": [],
   "source": [
    "def random_config(N):\n",
    "    # atribuir spins a spin_matrix da Classe\n",
    "    spins = np.random.choice([-1,1] , N)\n",
    "    return spins"
   ]
  },
  {
   "cell_type": "code",
   "execution_count": 49,
   "id": "9336e23f-76ef-4aab-9164-ca6abf9254d7",
   "metadata": {},
   "outputs": [],
   "source": [
    "def get_ener_mag(spins, viz):\n",
    "    N = spins.size\n",
    "    ener = 0\n",
    "    for i in range(N):\n",
    "        h = spins[viz[i,0]] + spins[viz[i, 1]]\n",
    "        ener -= spins[i]*h\n",
    "        mag = np.sum(spins)\n",
    "    return ener, mag"
   ]
  },
  {
   "cell_type": "code",
   "execution_count": 50,
   "id": "a3cbaf1a-ad07-4cac-8525-2e9b360d28ec",
   "metadata": {},
   "outputs": [],
   "source": [
    "@jit(nopython=True)\n",
    "def monte_carlo_step(spins, viz, expos, ener, mag):\n",
    "    N = spins.size\n",
    "         \n",
    "    for i in range(N):\n",
    "        h = spins[viz[i,0]] + spins[viz[i,1]] + spins[viz[i,2]] + spins[viz[i,3]]\n",
    "        de = int(spins[i]*h*0.5+2) # indice para acessar o valor das exponenciais\n",
    "    if np.random.rand() < exp[de]:\n",
    "         spins[i] = -spins[i]\n",
    "         ener = ener - 2*spins[i]*h \n",
    "         mag = mag + 2*spins[i]\n",
    "         ener_mag = (ener, mag)\n",
    " \n",
    "\n",
    "    return spins, ener, mag"
   ]
  },
  {
   "cell_type": "markdown",
   "id": "f3eacb2d-7062-4055-b939-3d30d77364e0",
   "metadata": {},
   "source": [
    "    Tamanho 32 e Temperatura 1.5"
   ]
  },
  {
   "cell_type": "code",
   "execution_count": 55,
   "id": "c84409cf-0ace-4b26-9916-163da9641110",
   "metadata": {},
   "outputs": [],
   "source": [
    "Rede1 = SpinLattice(L=32, T=1.5, spins=random_config(32*32))"
   ]
  },
  {
   "cell_type": "code",
   "execution_count": 44,
   "id": "f74d9a3b-8afb-4652-8583-8b1b87da8311",
   "metadata": {},
   "outputs": [],
   "source": [
    "# Pegar a primeira energia e mag\n",
    "ener, mag = get_ener_mag(Rede1.spins, Rede1.get_viz())"
   ]
  },
  {
   "cell_type": "code",
   "execution_count": 78,
   "id": "83b78cd5-7489-4497-8edb-1cca595585ad",
   "metadata": {},
   "outputs": [
    {
     "ename": "TypeError",
     "evalue": "'Dict' object is not callable",
     "output_type": "error",
     "traceback": [
      "\u001b[1;31m---------------------------------------------------------------------------\u001b[0m",
      "\u001b[1;31mTypeError\u001b[0m                                 Traceback (most recent call last)",
      "Cell \u001b[1;32mIn[78], line 1\u001b[0m\n\u001b[1;32m----> 1\u001b[0m Rede1\u001b[38;5;241m.\u001b[39mexp_dict()\n",
      "\u001b[1;31mTypeError\u001b[0m: 'Dict' object is not callable"
     ]
    }
   ],
   "source": [
    "Rede1.exp_dict()"
   ]
  },
  {
   "cell_type": "code",
   "execution_count": 66,
   "id": "66a9a86e-bed3-43a5-bb88-bed97cfd57be",
   "metadata": {},
   "outputs": [
    {
     "ename": "TypeError",
     "evalue": "'Dict' object is not callable",
     "output_type": "error",
     "traceback": [
      "\u001b[1;31m---------------------------------------------------------------------------\u001b[0m",
      "\u001b[1;31mTypeError\u001b[0m                                 Traceback (most recent call last)",
      "Cell \u001b[1;32mIn[66], line 5\u001b[0m\n\u001b[0;32m      1\u001b[0m monte_carlo_steps \u001b[38;5;241m=\u001b[39m \u001b[38;5;241m1_000\u001b[39m\n\u001b[0;32m      2\u001b[0m \u001b[38;5;28;01mfor\u001b[39;00m _ \u001b[38;5;129;01min\u001b[39;00m \u001b[38;5;28mrange\u001b[39m(monte_carlo_steps):\n\u001b[0;32m      3\u001b[0m     spins, ener, mag \u001b[38;5;241m=\u001b[39m monte_carlo_step(spins \u001b[38;5;241m=\u001b[39m Rede1\u001b[38;5;241m.\u001b[39mspins, \n\u001b[0;32m      4\u001b[0m                                         viz \u001b[38;5;241m=\u001b[39m Rede1\u001b[38;5;241m.\u001b[39mget_viz(),\n\u001b[1;32m----> 5\u001b[0m                                         expos \u001b[38;5;241m=\u001b[39mRede1\u001b[38;5;241m.\u001b[39mexp_dict(),\n\u001b[0;32m      6\u001b[0m                                         ener\u001b[38;5;241m=\u001b[39mener, mag\u001b[38;5;241m=\u001b[39mmag )\n",
      "\u001b[1;31mTypeError\u001b[0m: 'Dict' object is not callable"
     ]
    }
   ],
   "source": [
    "monte_carlo_steps = 1_000\n",
    "for _ in range(monte_carlo_steps):\n",
    "    spins, ener, mag = monte_carlo_step(spins = Rede1.spins, \n",
    "                                        viz = Rede1.get_viz(),\n",
    "                                        expos = Rede1.exp_dict(),\n",
    "                                        ener=ener, mag=mag )"
   ]
  }
 ],
 "metadata": {
  "kernelspec": {
   "display_name": "Python 3 (ipykernel)",
   "language": "python",
   "name": "python3"
  },
  "language_info": {
   "codemirror_mode": {
    "name": "ipython",
    "version": 3
   },
   "file_extension": ".py",
   "mimetype": "text/x-python",
   "name": "python",
   "nbconvert_exporter": "python",
   "pygments_lexer": "ipython3",
   "version": "3.12.4"
  }
 },
 "nbformat": 4,
 "nbformat_minor": 5
}
