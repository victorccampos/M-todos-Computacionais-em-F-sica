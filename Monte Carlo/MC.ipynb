{
 "cells": [
  {
   "cell_type": "code",
   "execution_count": 1,
   "metadata": {},
   "outputs": [],
   "source": [
    "from numba import jit\n",
    "import numpy as np\n",
    "import matplotlib.pyplot as plt\n",
    "from statsmodels.graphics import tsaplots"
   ]
  },
  {
   "cell_type": "code",
   "execution_count": 2,
   "metadata": {},
   "outputs": [],
   "source": [
    "L=5             # Tamanho lateral\n",
    "N=L*L           # numero de spins\n",
    "\n",
    "S=np.ones(N,dtype=np.int8)  # array de spins\n"
   ]
  },
  {
   "cell_type": "code",
   "execution_count": 3,
   "metadata": {},
   "outputs": [],
   "source": [
    "# funcao que gera um estado aleatorio\n",
    "def estado_aleatorio(N,S):\n",
    "\n",
    "    for i in range(N):\n",
    "        r = np.random.rand()\n",
    "        if r < 0.5:\n",
    "            S[i]=1\n",
    "        else:\n",
    "            S[i]=-1\n",
    "\n",
    "    return S\n"
   ]
  },
  {
   "cell_type": "code",
   "execution_count": 4,
   "metadata": {},
   "outputs": [],
   "source": [
    "S= estado_aleatorio(N,S)"
   ]
  },
  {
   "cell_type": "code",
   "execution_count": 5,
   "metadata": {},
   "outputs": [
    {
     "data": {
      "text/plain": [
       "array([-1,  1,  1,  1, -1,  1, -1, -1, -1, -1,  1, -1,  1, -1,  1, -1, -1,\n",
       "       -1,  1,  1,  1,  1, -1, -1,  1], dtype=int8)"
      ]
     },
     "execution_count": 5,
     "metadata": {},
     "output_type": "execute_result"
    }
   ],
   "source": [
    "S"
   ]
  },
  {
   "cell_type": "code",
   "execution_count": 6,
   "metadata": {},
   "outputs": [
    {
     "name": "stdout",
     "output_type": "stream",
     "text": [
      "-1\n"
     ]
    }
   ],
   "source": [
    "# calculo da magnetizacao\n",
    "mag = np.sum(S)\n",
    "print(mag)"
   ]
  },
  {
   "cell_type": "code",
   "execution_count": 6,
   "metadata": {},
   "outputs": [],
   "source": [
    "# define a tabela de vizinhos\n",
    "def vizinhos(S):\n",
    "\n",
    "    L= np.sqrt(len(S))\n",
    "    viz = np.zeros((N,4),dtype=np.int16)    # array de vizinhos\n",
    "\n",
    "    for i in range(N):\n",
    "        viz[i,0]=i+1\n",
    "        if (i+1)%L == 0 : viz[i,0]=i+1-L\n",
    "\n",
    "        viz[i,1] = i+L\n",
    "        if i > (N-L-1) : viz[i,1] = i+L-N \n",
    "\n",
    "        viz[i,2] = i-1\n",
    "        if i % L == 0: viz[i,2] = i-1 +L \n",
    "\n",
    "        viz[i,3] = i-L\n",
    "        if i<L : viz[i,3] = i-L+N\n",
    "\n",
    "    return viz"
   ]
  },
  {
   "cell_type": "code",
   "execution_count": 9,
   "metadata": {},
   "outputs": [],
   "source": [
    "viz = vizinhos(S)\n"
   ]
  },
  {
   "cell_type": "code",
   "execution_count": 10,
   "metadata": {},
   "outputs": [],
   "source": [
    "def energia(S,viz):\n",
    "\n",
    "    ener=0\n",
    "\n",
    "    for i in range(N):\n",
    "        ener = ener - S[i]*S[viz[i,0]] - S[i]*S[viz[i,1]]\n",
    "\n",
    "    return ener"
   ]
  },
  {
   "cell_type": "code",
   "execution_count": 11,
   "metadata": {},
   "outputs": [],
   "source": [
    "\n",
    "ener= energia(S,viz)"
   ]
  },
  {
   "cell_type": "code",
   "execution_count": 12,
   "metadata": {},
   "outputs": [
    {
     "name": "stdout",
     "output_type": "stream",
     "text": [
      "6\n"
     ]
    }
   ],
   "source": [
    "print(ener)"
   ]
  },
  {
   "cell_type": "code",
   "execution_count": 13,
   "metadata": {},
   "outputs": [],
   "source": [
    "@jit(nopython=True)\n",
    "def expos(beta):\n",
    "    ex={-8:np.exp(8.0*beta),-4:np.exp(4.0*beta),0:1,4:np.exp(-4.0*beta),8:np.exp(-8.0*beta)}\n",
    "    \n",
    "    return ex"
   ]
  },
  {
   "cell_type": "code",
   "execution_count": 14,
   "metadata": {},
   "outputs": [
    {
     "name": "stdout",
     "output_type": "stream",
     "text": [
      "{-8: 2980.9579870417283, -4: 54.598150033144236, 0: 1.0, 4: 0.01831563888873418, 8: 0.00033546262790251185}\n"
     ]
    }
   ],
   "source": [
    "beta=1.0\n",
    "ex=expos(beta)\n",
    "print(ex)"
   ]
  },
  {
   "cell_type": "code",
   "execution_count": 15,
   "metadata": {},
   "outputs": [],
   "source": [
    "def mc(S,viz,ex,ener):\n",
    "\n",
    "    N =len(S)\n",
    "\n",
    "    for i in range(N):\n",
    "\n",
    "        k = np.random.randint(N)\n",
    "\n",
    "        h = S[viz[k,0]]+S[viz[k,1]]+S[viz[k,2]]+S[viz[k,3]]\n",
    "        de=2*S[k]*h\n",
    "\n",
    "        if np.random.rand() < ex[de]:\n",
    "            S[k]=-S[k]\n",
    "            ener = ener+de"
   ]
  },
  {
   "cell_type": "code",
   "execution_count": 16,
   "metadata": {},
   "outputs": [],
   "source": [
    "mc(S,viz,ex,ener)"
   ]
  },
  {
   "cell_type": "code",
   "execution_count": 15,
   "metadata": {},
   "outputs": [],
   "source": [
    "mc(S,viz,ex,ener)"
   ]
  },
  {
   "cell_type": "code",
   "execution_count": 16,
   "metadata": {},
   "outputs": [],
   "source": [
    "mc(S,viz,ex,ener)"
   ]
  }
 ],
 "metadata": {
  "kernelspec": {
   "display_name": "base",
   "language": "python",
   "name": "python3"
  },
  "language_info": {
   "codemirror_mode": {
    "name": "ipython",
    "version": 3
   },
   "file_extension": ".py",
   "mimetype": "text/x-python",
   "name": "python",
   "nbconvert_exporter": "python",
   "pygments_lexer": "ipython3",
   "version": "3.12.4"
  }
 },
 "nbformat": 4,
 "nbformat_minor": 2
}
